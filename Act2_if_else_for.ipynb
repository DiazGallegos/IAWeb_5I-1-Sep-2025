{
  "nbformat": 4,
  "nbformat_minor": 0,
  "metadata": {
    "colab": {
      "provenance": [],
      "authorship_tag": "ABX9TyORutEXpCVymuWNx2ubPha3",
      "include_colab_link": true
    },
    "kernelspec": {
      "name": "python3",
      "display_name": "Python 3"
    },
    "language_info": {
      "name": "python"
    }
  },
  "cells": [
    {
      "cell_type": "markdown",
      "metadata": {
        "id": "view-in-github",
        "colab_type": "text"
      },
      "source": [
        "<a href=\"https://colab.research.google.com/github/DiazGallegos/IAWeb_5I-1-Sep-2025/blob/main/Act2_if_else_for.ipynb\" target=\"_parent\"><img src=\"https://colab.research.google.com/assets/colab-badge.svg\" alt=\"Open In Colab\"/></a>"
      ]
    },
    {
      "cell_type": "markdown",
      "source": [
        "Nombre:Christian Jesus Diaz Gallegos\n",
        "\n",
        "Gpo 5ºI\n",
        "\n",
        "Introduccion a Python\n",
        "\n",
        "Variables"
      ],
      "metadata": {
        "id": "ecair1BISxD5"
      }
    },
    {
      "cell_type": "code",
      "source": [
        "Nombre=\"Christian Diaz\"\n",
        "Edad=62\n",
        "estatura=1.69\n",
        "Peso=58.5\n",
        "email=\"cris@gmail.com\"\n",
        "print(Nombre)\n",
        "print(Edad)\n",
        "print(estatura)\n",
        "print(Peso)\n",
        "print(email)"
      ],
      "metadata": {
        "colab": {
          "base_uri": "https://localhost:8080/"
        },
        "id": "tXXi4lUoTEp4",
        "outputId": "f785108e-f311-40e4-c4e3-dfb933bb4dab"
      },
      "execution_count": 1,
      "outputs": [
        {
          "output_type": "stream",
          "name": "stdout",
          "text": [
            "Christian Diaz\n",
            "62\n",
            "1.69\n",
            "58.5\n",
            "cris@gmail.com\n"
          ]
        }
      ]
    },
    {
      "cell_type": "markdown",
      "source": [
        "Sentencia If else\n"
      ],
      "metadata": {
        "id": "2uyvTtLIT4RV"
      }
    },
    {
      "cell_type": "code",
      "source": [
        "edad=16\n",
        "if edad>=18:\n",
        "  print(\"Eres mayor de edad\")\n",
        "else:\n",
        "  print(\"Eres menor de edad\")\n",
        "print(\"Final del programa\")"
      ],
      "metadata": {
        "colab": {
          "base_uri": "https://localhost:8080/"
        },
        "id": "t4-Ww0Y3UBKY",
        "outputId": "0bd4576a-6433-4467-9738-3e4490d61288"
      },
      "execution_count": 5,
      "outputs": [
        {
          "output_type": "stream",
          "name": "stdout",
          "text": [
            "Eres menor de edad\n",
            "Final del programa\n"
          ]
        }
      ]
    },
    {
      "cell_type": "code",
      "source": [
        "edad=15\n",
        "if edad>=18:\n",
        "  print(\"Eres mayor de edad\")\n",
        "else:\n",
        "  print(\"Eres menor de edad\")\n",
        "print(\"Final del programa\")"
      ],
      "metadata": {
        "colab": {
          "base_uri": "https://localhost:8080/"
        },
        "id": "d2c7sx63UasZ",
        "outputId": "d41b5efe-8441-4e7c-8fd4-1b6fcf5e8d66"
      },
      "execution_count": 4,
      "outputs": [
        {
          "output_type": "stream",
          "name": "stdout",
          "text": [
            "Eres menor de edad\n",
            "Final del programa\n"
          ]
        }
      ]
    },
    {
      "cell_type": "markdown",
      "source": [
        "Boleano con if\n"
      ],
      "metadata": {
        "id": "9vxNKi1zUmhJ"
      }
    },
    {
      "cell_type": "code",
      "source": [
        "Estaslimpio=True\n",
        "if Estaslimpio==True:\n",
        "  print(\"Puedes entrar a bailar\")\n",
        "else:\n",
        "   print(\"Vete a bañar\")\n",
        "\n",
        "print(\"Fin del programa\")"
      ],
      "metadata": {
        "colab": {
          "base_uri": "https://localhost:8080/"
        },
        "id": "1064EU6VUrMe",
        "outputId": "d167f21f-9ae5-4360-aabf-82249f847f5e"
      },
      "execution_count": 6,
      "outputs": [
        {
          "output_type": "stream",
          "name": "stdout",
          "text": [
            "Puedes entrar a bailar\n",
            "Fin del programa\n"
          ]
        }
      ]
    },
    {
      "cell_type": "code",
      "source": [
        "Estaslimpio=False\n",
        "if Estaslimpio==True:\n",
        "  print(\"Puedes entrar a bailar\")\n",
        "else:\n",
        "   print(\"Vete a bañar\")\n",
        "\n",
        "print(\"Fin del programa\")"
      ],
      "metadata": {
        "colab": {
          "base_uri": "https://localhost:8080/"
        },
        "id": "vTOdDwqVVObX",
        "outputId": "4dacef85-d3ee-493d-a52f-d111be3252c2"
      },
      "execution_count": 7,
      "outputs": [
        {
          "output_type": "stream",
          "name": "stdout",
          "text": [
            "Vete a bañar\n",
            "Fin del programa\n"
          ]
        }
      ]
    },
    {
      "cell_type": "markdown",
      "source": [
        "Ciclo For"
      ],
      "metadata": {
        "id": "UpGEiSN1VVvJ"
      }
    },
    {
      "cell_type": "code",
      "source": [
        "for n in range(1,10):\n",
        "  print(n)"
      ],
      "metadata": {
        "colab": {
          "base_uri": "https://localhost:8080/"
        },
        "id": "V-8nLvn3VZ2R",
        "outputId": "3ddc32c0-597e-440b-8450-17d9dd24d654"
      },
      "execution_count": 12,
      "outputs": [
        {
          "output_type": "stream",
          "name": "stdout",
          "text": [
            "1\n",
            "2\n",
            "3\n",
            "4\n",
            "5\n",
            "6\n",
            "7\n",
            "8\n",
            "9\n"
          ]
        }
      ]
    },
    {
      "cell_type": "code",
      "source": [
        "# imprimir tabla de multiplicar\n",
        "nt=3\n",
        "for i in range(1, 11):\n",
        "   print(f\"{nt} x {i} = {nt * i}\")"
      ],
      "metadata": {
        "colab": {
          "base_uri": "https://localhost:8080/"
        },
        "id": "Nh6w_a9TVzVA",
        "outputId": "4efc67c4-b3af-45be-f819-5eabb13eb249"
      },
      "execution_count": 13,
      "outputs": [
        {
          "output_type": "stream",
          "name": "stdout",
          "text": [
            "3 x 1 = 3\n",
            "3 x 2 = 6\n",
            "3 x 3 = 9\n",
            "3 x 4 = 12\n",
            "3 x 5 = 15\n",
            "3 x 6 = 18\n",
            "3 x 7 = 21\n",
            "3 x 8 = 24\n",
            "3 x 9 = 27\n",
            "3 x 10 = 30\n"
          ]
        }
      ]
    },
    {
      "cell_type": "code",
      "metadata": {
        "id": "d5afae7b"
      },
      "source": [
        "# Get input from the user for the number whose multiplication table is needed\n",
        "num = int(input(\"Enter the number whose multiplication table you want to see: \"))\n",
        "\n",
        "# Define the range for the multiplication table (e.g., 1 to 10)\n",
        "for i in range(1, 11):\n",
        "   print(f\"{num} x {i} = {num * i}\")"
      ],
      "execution_count": null,
      "outputs": []
    },
    {
      "cell_type": "code",
      "source": [
        "frutas=[\"pera\",\"manzana\",\"fresa\"]\n",
        "for f in frutas:\n",
        "  print(f)"
      ],
      "metadata": {
        "colab": {
          "base_uri": "https://localhost:8080/"
        },
        "id": "l5L-sTxbXMSW",
        "outputId": "a9c4776f-ffae-4f93-c22e-9b94b55a92ca"
      },
      "execution_count": 15,
      "outputs": [
        {
          "output_type": "stream",
          "name": "stdout",
          "text": [
            "pera\n",
            "manzana\n",
            "fresa\n"
          ]
        }
      ]
    }
  ]
}